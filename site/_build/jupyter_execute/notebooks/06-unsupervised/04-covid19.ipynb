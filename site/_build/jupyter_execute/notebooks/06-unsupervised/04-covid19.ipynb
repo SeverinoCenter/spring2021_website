{
 "cells": [
  {
   "cell_type": "markdown",
   "metadata": {
    "colab_type": "text",
    "id": "G0GqCZaUgU0m"
   },
   "source": [
    "# Coronavirus Data Modeling\n",
    "\n",
    "\n",
    "### Background\n",
    "From Wikipedia...\n",
    "\n",
    "\"The 2019–20 coronavirus pandemic is an ongoing global pandemic of coronavirus disease 2019 (COVID-19) caused by the severe acute respiratory syndrome coronavirus 2 (SARS-CoV-2). The virus was first reported in Wuhan, Hubei, China, in December 2019.[5][6] On March 11, 2020, the World Health Organization declared the outbreak a pandemic.[7] As of March 12, 2020, over 134,000 cases have been confirmed in more than 120 countries and territories, with major outbreaks in mainland China, Italy, South Korea, and Iran.[3] Around 5,000 people, with about 3200 from China, have died from the disease. More than 69,000 have recovered.[4]\n",
    "\n",
    "The virus spreads between people in a way similar to influenza, via respiratory droplets from coughing.[8][9][10] The time between exposure and symptom onset is typically five days, but may range from two to fourteen days.[10][11] Symptoms are most often fever, cough, and shortness of breath.[10][11] Complications may include pneumonia and acute respiratory distress syndrome. There is currently no vaccine or specific antiviral treatment, but research is ongoing. Efforts are aimed at managing symptoms and supportive therapy. Recommended preventive measures include handwashing, maintaining distance from other people (particularly those who are sick), and monitoring and self-isolation for fourteen days for people who suspect they are infected.[9][10][12]\n",
    "\n",
    "Public health responses around the world have included travel restrictions, quarantines, curfews, event cancellations, and school closures. They have included the quarantine of all of Italy and the Chinese province of Hubei; various curfew measures in China and South Korea;[13][14][15] screening methods at airports and train stations;[16] and travel advisories regarding regions with community transmission.[17][18][19][20] Schools have closed nationwide in 22 countries or locally in 17 countries, affecting more than 370 million students.[21]\"\n",
    "\n",
    "https://en.wikipedia.org/wiki/2019–20_coronavirus_pandemic \n",
    "\n",
    "For ADDITIONAL BACKGROUND, see JHU's COVID-19 Resource Center:\n",
    "https://coronavirus.jhu.edu/\n",
    "\n",
    "\n"
   ]
  },
  {
   "cell_type": "markdown",
   "metadata": {
    "colab_type": "text",
    "id": "MdTKKyVg3p30"
   },
   "source": [
    "#RPI IDEA \n",
    "\n",
    "Check out these resources that IDEA has put together. \n",
    "\n",
    "https://idea.rpi.edu/covid-19-resources"
   ]
  },
  {
   "cell_type": "markdown",
   "metadata": {
    "colab_type": "text",
    "id": "UcaIIEhM37wq"
   },
   "source": [
    "### The Assignment\n",
    "\n",
    "Our lives have been seriously disrupted by the coronavirus pandemic, and there is every indication that this is going to be a global event which requires colloration in a global community to solve.  Studying the data provides an opportunity to connect the pandemic to the variety of themes from the class. \n",
    "\n",
    "A number of folks have already been examining this data. \n",
    "https://ourworldindata.org/coronavirus-source-data\n"
   ]
  },
  {
   "cell_type": "markdown",
   "metadata": {
    "colab_type": "text",
    "id": "aW0QfpmtwZku"
   },
   "source": [
    "1. Discussion.  What is the role of open data?  Why is it important in this case?"
   ]
  },
  {
   "cell_type": "markdown",
   "metadata": {
    "colab_type": "text",
    "id": "n9o21cXswmfn"
   },
   "source": [
    "2. Read this. \n",
    "https://medium.com/@tomaspueyo/coronavirus-act-today-or-people-will-die-f4d3d9cd99ca\n",
    "\n",
    "\n",
    "What is the role of bias in the data?  Identify 2 different ways that the data could be biased.  "
   ]
  },
  {
   "cell_type": "code",
   "execution_count": null,
   "metadata": {
    "colab": {
     "base_uri": "https://localhost:8080/",
     "height": 634
    },
    "colab_type": "code",
    "id": "pe1YW4nMvxAC",
    "outputId": "0c25ca74-e040-4a40-a8b7-8a68718477de"
   },
   "outputs": [],
   "source": [
    "#Load some data\n",
    "import pandas as pd\n",
    "df=pd.read_csv('https://github.com/CSSEGISandData/COVID-19/raw/master/csse_covid_19_data/csse_covid_19_daily_reports/10-21-2020.csv')\n",
    "df"
   ]
  },
  {
   "cell_type": "markdown",
   "metadata": {
    "colab_type": "text",
    "id": "tTqTY-pMxvn1"
   },
   "source": [
    "### Preprocessing\n",
    "We have to deal with missing values first.\n",
    "\n",
    "First let's check the missing values for each column. "
   ]
  },
  {
   "cell_type": "code",
   "execution_count": null,
   "metadata": {
    "colab": {
     "base_uri": "https://localhost:8080/",
     "height": 194
    },
    "colab_type": "code",
    "id": "km0OOvMpxtEu",
    "outputId": "5d2c8048-405f-4fdc-bc8e-82bbef031423"
   },
   "outputs": [],
   "source": [
    "df.isnull().sum() "
   ]
  },
  {
   "cell_type": "code",
   "execution_count": null,
   "metadata": {
    "colab": {
     "base_uri": "https://localhost:8080/",
     "height": 634
    },
    "colab_type": "code",
    "id": "PuaafFDswBLR",
    "outputId": "2deff0c0-d693-4ef3-ff12-bcd0e41490c0"
   },
   "outputs": [],
   "source": [
    "df.loc[df['Province_State'].isnull(),:]"
   ]
  },
  {
   "cell_type": "code",
   "execution_count": null,
   "metadata": {
    "colab": {
     "base_uri": "https://localhost:8080/",
     "height": 634
    },
    "colab_type": "code",
    "id": "F0dakmKDwTE9",
    "outputId": "81fd7bcd-110b-41e7-b290-ed3b0efd0c4b"
   },
   "outputs": [],
   "source": [
    "df.loc[df['Province_State'].notnull(),:]"
   ]
  },
  {
   "cell_type": "markdown",
   "metadata": {
    "colab_type": "text",
    "id": "qLvSuNOmvm90"
   },
   "source": [
    "### Missing Values and data\n",
    "3. How might we deal with missing values? How is the data structured such that aggregation might be relevant.  \n",
    "\n"
   ]
  },
  {
   "cell_type": "code",
   "execution_count": null,
   "metadata": {
    "colab": {},
    "colab_type": "code",
    "id": "xQhzr6rivf5n"
   },
   "outputs": [],
   "source": []
  },
  {
   "cell_type": "code",
   "execution_count": null,
   "metadata": {
    "colab": {},
    "colab_type": "code",
    "id": "JrCf0iAhw2b6"
   },
   "outputs": [],
   "source": [
    "#Note the country is then the index here. \n",
    "country=pd.pivot_table(df, values=['Confirmed',\t'Deaths',\t'Recovered'], index='Country_Region',  aggfunc='sum')"
   ]
  },
  {
   "cell_type": "code",
   "execution_count": null,
   "metadata": {},
   "outputs": [],
   "source": [
    "country"
   ]
  },
  {
   "cell_type": "markdown",
   "metadata": {
    "colab_type": "text",
    "id": "QML4k0CM2Jwp"
   },
   "source": [
    "### Clustering \n",
    "\n",
    "Here is and example of the elbow method, which is used to understand the number of clusters. \n",
    "\n",
    "https://scikit-learn.org/stable/modules/clustering.html#k-means\n",
    "\n",
    "The K-means algorithm aims to choose centroids that minimise the inertia, or within-cluster sum-of-squares criterion.\n",
    "\n",
    "By looking at the total inertia at different numbers of clusters, we can get an idea of the appropriate number of clusters.\n",
    "\n"
   ]
  },
  {
   "cell_type": "code",
   "execution_count": null,
   "metadata": {
    "colab": {},
    "colab_type": "code",
    "id": "wQ9IHw3Szq7l"
   },
   "outputs": [],
   "source": [
    "#This indicates the \n",
    "\n",
    "from sklearn.cluster import KMeans\n",
    "sum_sq = {}\n",
    "for k in range(1,30):\n",
    "    kmeans = KMeans(n_clusters = k).fit(country)\n",
    "    # Inertia: Sum of distances of samples to their closest cluster center\n",
    "    sum_sq[k] = kmeans.inertia_\n",
    "  \n",
    "  "
   ]
  },
  {
   "cell_type": "code",
   "execution_count": null,
   "metadata": {
    "colab": {
     "base_uri": "https://localhost:8080/",
     "height": 540
    },
    "colab_type": "code",
    "id": "WWr5SgJO00aI",
    "outputId": "331c7222-685a-4c69-9d38-b0a9558de253"
   },
   "outputs": [],
   "source": [
    "#ineria at different levels of K\n",
    "sum_sq"
   ]
  },
  {
   "cell_type": "markdown",
   "metadata": {
    "colab_type": "text",
    "id": "jvLmgMWx0mVX"
   },
   "source": [
    "## The Elbow Method\n",
    "\n",
    "Not a type of criteria like p<0.05, but the elbow method you look for where the change in the variance explained from adding more clusters drops extensively. "
   ]
  },
  {
   "cell_type": "code",
   "execution_count": null,
   "metadata": {
    "colab": {
     "base_uri": "https://localhost:8080/",
     "height": 314
    },
    "colab_type": "code",
    "id": "YawhLIqN0aJj",
    "outputId": "30218540-0e3f-4986-fc4a-be94c82ced2c"
   },
   "outputs": [],
   "source": [
    "# plot elbow graph\n",
    "import matplotlib\n",
    "from matplotlib import pyplot as plt\n",
    "plt.plot(list(sum_sq.keys()),\n",
    "         list(sum_sq.values()),\n",
    "        linestyle = '-',\n",
    "        marker = 'H',\n",
    "        markersize = 2,\n",
    "        markerfacecolor = 'red')"
   ]
  },
  {
   "cell_type": "markdown",
   "metadata": {
    "colab_type": "text",
    "id": "h0BX7u-Z4iQy"
   },
   "source": [
    "## Looks like we can justify 5 clusters. \n",
    "\n",
    "See how adding the 5th doesn't really impact the total variance as much?  It might be interesting to do the analysis both at 4 and 5 and try to interpret. "
   ]
  },
  {
   "cell_type": "code",
   "execution_count": null,
   "metadata": {
    "colab": {},
    "colab_type": "code",
    "id": "lENZWzaO5FSC"
   },
   "outputs": [],
   "source": [
    "kmeans = KMeans(n_clusters=5)\n",
    "kmeans.fit(country)\n",
    "country['y_kmeans'] = kmeans.predict(country)\n"
   ]
  },
  {
   "cell_type": "code",
   "execution_count": null,
   "metadata": {
    "colab": {
     "base_uri": "https://localhost:8080/",
     "height": 194
    },
    "colab_type": "code",
    "id": "2X8O5NJ45X99",
    "outputId": "2a6db305-c5b7-4b6a-d89b-3c82d0c43c1b"
   },
   "outputs": [],
   "source": []
  },
  {
   "cell_type": "markdown",
   "metadata": {
    "colab_type": "text",
    "id": "sLkSkUngB1Id"
   },
   "source": [
    "## Looks like they are mostly 0s.  Let's merge our data back together so we could get a clearer picture. \n"
   ]
  },
  {
   "cell_type": "code",
   "execution_count": null,
   "metadata": {
    "colab": {
     "base_uri": "https://localhost:8080/",
     "height": 475
    },
    "colab_type": "code",
    "id": "HaCop-JgyJyd",
    "outputId": "b0c61f4b-a82d-4d6a-c351-a8c625d7f367"
   },
   "outputs": [],
   "source": [
    "loc=pd.pivot_table(df, values=['Lat','Long_'], index='Country_Region',  aggfunc='mean')\n",
    "#loc['cluster']=y_kmeans\n",
    "loc"
   ]
  },
  {
   "cell_type": "code",
   "execution_count": null,
   "metadata": {},
   "outputs": [],
   "source": []
  },
  {
   "cell_type": "code",
   "execution_count": null,
   "metadata": {},
   "outputs": [],
   "source": [
    "alldata=country.merge(loc, left_index=True, right_index=True)"
   ]
  },
  {
   "cell_type": "code",
   "execution_count": null,
   "metadata": {
    "colab": {
     "base_uri": "https://localhost:8080/",
     "height": 475
    },
    "colab_type": "code",
    "id": "uto0EsPc5q4a",
    "outputId": "a3568c41-e031-4ab2-b413-03a5f3ebc8cc"
   },
   "outputs": [],
   "source": [
    "#join in our dataframes\n",
    "\n",
    "alldata.to_csv(\"alldata.csv\")  \n",
    "alldata"
   ]
  },
  {
   "cell_type": "code",
   "execution_count": null,
   "metadata": {
    "colab": {},
    "colab_type": "code",
    "id": "oDAUDm8u76u7"
   },
   "outputs": [],
   "source": [
    "#Alldata\n",
    "from google.colab import files\n",
    "files.download(\"alldata.csv\")"
   ]
  },
  {
   "cell_type": "code",
   "execution_count": null,
   "metadata": {
    "colab": {},
    "colab_type": "code",
    "id": "7y_P1_qoV9eZ"
   },
   "outputs": [],
   "source": [
    "alldata.sort_values('cluster', inplace=True)"
   ]
  },
  {
   "cell_type": "markdown",
   "metadata": {
    "colab_type": "text",
    "id": "3omrqbvk7oSy"
   },
   "source": [
    "#How do we interpret our clusters? "
   ]
  },
  {
   "cell_type": "code",
   "execution_count": null,
   "metadata": {
    "colab": {
     "base_uri": "https://localhost:8080/",
     "height": 320
    },
    "colab_type": "code",
    "id": "PsZ1FP0e7z_0",
    "outputId": "69146ddc-e79d-4a45-8496-e8d68d8257f4"
   },
   "outputs": [],
   "source": [
    "alldata[alldata.cluster!=0]"
   ]
  },
  {
   "cell_type": "code",
   "execution_count": null,
   "metadata": {
    "colab": {
     "base_uri": "https://localhost:8080/",
     "height": 1000
    },
    "colab_type": "code",
    "id": "qPB0RYxk9bhj",
    "outputId": "f6258c26-9827-4ea9-d9fb-6179a36f098e"
   },
   "outputs": [],
   "source": [
    "#Details\n",
    "pd.set_option('display.max_rows', 500)  #this allows us to see all rows. \n",
    "alldata[alldata.cluster==0]"
   ]
  }
 ],
 "metadata": {
  "colab": {
   "name": "coronavirus.ipynb",
   "provenance": []
  },
  "kernelspec": {
   "display_name": "Python 3",
   "language": "python",
   "name": "python3"
  },
  "language_info": {
   "codemirror_mode": {
    "name": "ipython",
    "version": 3
   },
   "file_extension": ".py",
   "mimetype": "text/x-python",
   "name": "python",
   "nbconvert_exporter": "python",
   "pygments_lexer": "ipython3",
   "version": "3.7.6"
  }
 },
 "nbformat": 4,
 "nbformat_minor": 4
}